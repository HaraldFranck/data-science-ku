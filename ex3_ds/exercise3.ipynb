{
 "cells": [
  {
   "cell_type": "markdown",
   "metadata": {},
   "source": [
    "# Exercise 3: Learning from Data\n",
    "\n",
    "In this exercise, you will train different types of regression and classification models on two datasets. You will be graded based on a combination of your code producing the expected results, your written responses to the questions and a passing leaderboard score in the final exercise."
   ]
  },
  {
   "cell_type": "markdown",
   "metadata": {},
   "source": [
    "### 3.1 Linear / Logistic Regression for digit recognition\n",
    "\n",
    "In this part you will experiment with two different types of prediction models, and qualitatively + quantitatively compare them. You will be working with the classic MNIST dataset, which we can load from `sklearn.datasets`."
   ]
  },
  {
   "cell_type": "code",
   "execution_count": 1,
   "metadata": {},
   "outputs": [],
   "source": [
    "# Importing the dataset\n",
    "from sklearn import datasets\n",
    "digits = datasets.load_digits()"
   ]
  },
  {
   "cell_type": "markdown",
   "metadata": {},
   "source": [
    "Here we plot the first few digits and their labels. Apparently they are in order, but our upcoming models will not rely on this."
   ]
  },
  {
   "cell_type": "code",
   "execution_count": 2,
   "metadata": {},
   "outputs": [
    {
     "data": {
      "image/png": "[encoded data removed]",
      "text/plain": [
       "<Figure size 1500x300 with 12 Axes>"
      ]
     },
     "metadata": {},
     "output_type": "display_data"
    }
   ],
   "source": [
    "import matplotlib.pyplot as plt\n",
    "\n",
    "_, axes = plt.subplots(nrows=1, ncols=12, figsize=(15, 3))\n",
    "for ax, image, label in zip(axes, digits.images, digits.target):\n",
    "    ax.set_axis_off()\n",
    "    ax.imshow(image, cmap=plt.cm.gray_r, interpolation=\"nearest\")\n",
    "    ax.set_title(\"Label: %i\" % label)"
   ]
  },
  {
   "cell_type": "markdown",
   "metadata": {},
   "source": [
    "### A: Warmup Exercise\n",
    "\n",
    "Use the `train_test_split` function from `sklearn.model_selection` twice to split the data into train, validation, and test sets, with a distribution of 80%, 10%, and 10% respectively. Use `random_state=0` for reproducibility.\n",
    "Check out the documentation to figure out how to set the parameters to get the desired split. "
   ]
  },
  {
   "cell_type": "code",
   "execution_count": 3,
   "metadata": {},
   "outputs": [],
   "source": [
    "# INSERT YOUR CODE HERE. ASSIGN TO THE FOLLOWING VARIABLES, X_train, X_val, X_test, y_train, y_val, y_test\n",
    "# >\n",
    "from sklearn.model_selection import train_test_split\n",
    "X_train, X_testing, y_train, y_testing = train_test_split(digits.data, digits.target, \n",
    "                       train_size=0.8,\n",
    "                       test_size=0.2,\n",
    "                       random_state=0)\n",
    "X_test, X_val, y_test, y_val = train_test_split(X_testing, y_testing, train_size=0.5, random_state=0)\n"
   ]
  },
  {
   "cell_type": "markdown",
   "metadata": {},
   "source": [
    "Now let's check out the returned training data, which is of the type `numpy.ndarray`, which you might have seen already. We want to make sure the classes are balanced, e.g. we don't have a lot more 4's than 5's.\n",
    " - How many images do we have for the train, validation, and test sets?\n",
    " - What is the distribution of the training labels? Comment on whether the classes are balanced."
   ]
  },
  {
   "cell_type": "code",
   "execution_count": 4,
   "metadata": {},
   "outputs": [
    {
     "name": "stdout",
     "output_type": "stream",
     "text": [
      "Images in train set: 1437\n",
      "Images in test set: 180\n",
      "Images in val set: 180\n",
      "Distribution of labels in train:  [(0, 0.11), (1, 0.1), (2, 0.1), (3, 0.11), (4, 0.11), (5, 0.1), (6, 0.1), (7, 0.1), (8, 0.09), (9, 0.1)]\n"
     ]
    }
   ],
   "source": [
    "# CALCULATE AND WRITE YOUR ANSWERS HERE\n",
    "# >\n",
    "from nltk import FreqDist\n",
    "def num(inp):\n",
    "    sum = 0\n",
    "    for i in inp:\n",
    "        sum += i[1]\n",
    "    return sum\n",
    "def counter(inp):\n",
    "    fdist1 = FreqDist(inp)\n",
    "    sort = sorted(fdist1.most_common(), key=lambda i: i[0])\n",
    "    return [(x[0], round(x[1]/num(sort),2)) for x in sort]\n",
    "\n",
    "print(f\"Images in train set: {len(X_train)}\")\n",
    "print(f\"Images in test set: {len(X_test)}\")\n",
    "print(f\"Images in val set: {len(X_val)}\")\n",
    "print(\"Distribution of labels in train: \", counter(y_train))"
   ]
  },
  {
   "cell_type": "markdown",
   "metadata": {},
   "source": [
    "The classes are pretty balanced, we have close to 10% of each number."
   ]
  },
  {
   "cell_type": "markdown",
   "metadata": {},
   "source": [
    "### B: Programming Exercise\n",
    "\n",
    "Let's build a model that learns to predict the digit given the image. We'll first try our hand at linear regression. We will use the `LinearRegression` class from `sklearn.linear_model`. Again, check out the documentation on how to use it. We will use the `fit` method to train the model, and the `predict` method to make predictions on the test set.\n",
    "Afterwards, evaluate the model using functions from `sklearn.metrics` module."
   ]
  },
  {
   "cell_type": "code",
   "execution_count": 5,
   "metadata": {},
   "outputs": [
    {
     "name": "stdout",
     "output_type": "stream",
     "text": [
      "LinearRegression MSE:  4.455555555555556\n",
      "LinearRegression accuracy:  0.25\n"
     ]
    },
    {
     "data": {
      "image/png": "[encoded data removed]",
      "text/plain": [
       "<Figure size 1000x300 with 10 Axes>"
      ]
     },
     "metadata": {},
     "output_type": "display_data"
    }
   ],
   "source": [
    "# DEFINE A LinearRegression MODEL USING SKLEARN. ASSIGN THE MODEL TO THE VARIABLE model.\n",
    "# >\n",
    "from sklearn.linear_model import LinearRegression\n",
    "from sklearn.metrics import mean_squared_error, accuracy_score\n",
    "model = LinearRegression()\n",
    "\n",
    "# FIT THE MODEL AND MAKE PREDICTIONS ON THE TEST SET. ASSIGN THE PREDICTIONS TO THE VARIABLE y_pred.\n",
    "# >\n",
    "model.fit(X_train, y_train)\n",
    "y_pred = [round(x) for x in model.predict(X_test)]\n",
    "# ASSIGN YOUR MODEL'S TEST SET MSE TO THE VARIABLE mse AND ITS ACCURACY TO THE VARIABLE acc.\n",
    "# >\n",
    "mse = mean_squared_error(y_true=y_test,y_pred=y_pred)\n",
    "acc = accuracy_score(y_test, y_pred)\n",
    "\n",
    "# DO NOT INSERT OR CHANGE ANYTHING BELOW\n",
    "\n",
    "\n",
    "print(\"LinearRegression MSE: \", mse)\n",
    "print(\"LinearRegression accuracy: \", acc)\n",
    "\n",
    "_, axes = plt.subplots(nrows=1, ncols=10, figsize=(10, 3))\n",
    "for ax, image, prediction in zip(axes, X_test, y_pred):\n",
    "    ax.set_axis_off()\n",
    "    image = image.reshape(8, 8)\n",
    "    ax.imshow(image, cmap=plt.cm.gray_r, interpolation=\"nearest\")\n",
    "    ax.set_title(\"%i\" % prediction)"
   ]
  },
  {
   "cell_type": "markdown",
   "metadata": {},
   "source": [
    "### C: Programming Exercise\n",
    "\n",
    "Now, let's model the task differently.\n",
    "You will use the `LogisticRegression`, again included in the module `sklearn.linear_model`, and again, check out the documentation to see how to use it. Fit the model and make predictions on the test set. \n",
    "\n",
    "You are asked to produce output with the same structure as in the above programming exercise (two printouts and one image), but for a different model this time."
   ]
  },
  {
   "cell_type": "code",
   "execution_count": 6,
   "metadata": {},
   "outputs": [
    {
     "name": "stderr",
     "output_type": "stream",
     "text": [
      "/Users/haraldfranck/miniconda3/envs/fake-news/lib/python3.11/site-packages/sklearn/linear_model/_logistic.py:458: ConvergenceWarning: lbfgs failed to converge (status=1):\n",
      "STOP: TOTAL NO. of ITERATIONS REACHED LIMIT.\n",
      "\n",
      "Increase the number of iterations (max_iter) or scale the data as shown in:\n",
      "    https://scikit-learn.org/stable/modules/preprocessing.html\n",
      "Please also refer to the documentation for alternative solver options:\n",
      "    https://scikit-learn.org/stable/modules/linear_model.html#logistic-regression\n",
      "  n_iter_i = _check_optimize_result(\n"
     ]
    },
    {
     "name": "stdout",
     "output_type": "stream",
     "text": [
      "LogisticRegression MSE:  0.8444444444444444\n",
      "LogisticRegression accuracy:  0.9611111111111111\n",
      "[3, 4, 7, 9, 4, 6, 6, 7, 0, 7]\n"
     ]
    },
    {
     "data": {
      "image/png": "[encoded data removed]",
      "text/plain": [
       "<Figure size 1000x300 with 10 Axes>"
      ]
     },
     "metadata": {},
     "output_type": "display_data"
    }
   ],
   "source": [
    "# YOUR CODE HERE\n",
    "# >\n",
    "from sklearn.linear_model import LogisticRegression\n",
    "from sklearn.metrics import accuracy_score\n",
    "import numpy as np\n",
    "regr = LogisticRegression()\n",
    "\n",
    "# FIT THE MODEL AND MAKE PREDICTIONS ON THE TEST SET. ASSIGN THE PREDICTIONS TO THE VARIABLE y_pred.\n",
    "# >\n",
    "regr.fit(X_train, y_train)\n",
    "y_pred = [round(x) for x in regr.predict(X_test)]\n",
    "# ASSIGN YOUR MODEL'S TEST SET MSE TO THE VARIABLE mse AND ITS ACCURACY TO THE VARIABLE acc.\n",
    "# >\n",
    "mse = mean_squared_error(y_true=y_test,y_pred=y_pred)\n",
    "acc = accuracy_score(y_test, y_pred)\n",
    "\n",
    "# DO NOT INSERT OR CHANGE ANYTHING BELOW\n",
    "\n",
    "\n",
    "print(\"LogisticRegression MSE: \", mse)\n",
    "print(\"LogisticRegression accuracy: \", acc)\n",
    "print(y_pred[:10])\n",
    "\n",
    "_, axes = plt.subplots(nrows=1, ncols=10, figsize=(10, 3))\n",
    "for ax, image, prediction in zip(axes, X_test, y_pred):\n",
    "    ax.set_axis_off()\n",
    "    image = image.reshape(8, 8)\n",
    "    ax.imshow(image, cmap=plt.cm.gray_r, interpolation=\"nearest\")\n",
    "    ax.set_title(\"%i\" % prediction)"
   ]
  },
  {
   "cell_type": "markdown",
   "metadata": {},
   "source": [
    "### Written Questions"
   ]
  },
  {
   "cell_type": "markdown",
   "metadata": {},
   "source": [
    "1a) Describe the trends you observe in the results. Is there anything interesting or unexpected? \n",
    "\n",
    "\n",
    "1b) How do the results compare to the linear regression model? \n",
    "The Logistic regression model predicts much more accurately than the linear regression model. We can compare the MSE of 4,5 of the linear model to 0,84 of the logistic model. The accuracy is also much higher with the logistic model, 0,96 compared to the linear model with 0,25.\n",
    "\n",
    "1c) What do you think is the reason for this?\n",
    "Linear regression is not a model for classification, it is a model for regression. And predicting a number from an image is not something a linear regression model can do very well. Linear regression is used to predict a continuous variable, but we need a discrete variable."
   ]
  },
  {
   "cell_type": "markdown",
   "metadata": {},
   "source": [
    "## Exercise 3.2: Counting stars"
   ]
  },
  {
   "cell_type": "markdown",
   "metadata": {},
   "source": [
    "Your team is tasked with applying data science and machine learning techniques to some recently collected telescope image data. The telescope takes low resolution images, in which stars either appear as squares or circles. Your task is to train a classifier to determine whether there are more circular stars than square stars in each image. The budget is tight this year so there are no resources available to train expensive deep neural networks; you will need to train a linear or logistic regression classifier instead.\n",
    "\n",
    "You are encouraged to be creative, and to try out different things empirically, too. Preprocessing could be crucial to the success of your model. Good luck!\n",
    "\n",
    "Below is a sample of the data you'll be working with. Above each image is the label, which shows the number of circular and square stars, respectively. We do not count the small noisy background stars. \n",
    "\n",
    "![](sample.png)"
   ]
  },
  {
   "cell_type": "markdown",
   "metadata": {},
   "source": [
    "### D: Programming Exercise\n",
    "\n",
    "1. Create an account on Kaggle to collect the data https://www.kaggle.com/competitions/ds2023-counting-stars/. Use your real name, or tell us your Kaggle username, so we can grade you.\n",
    "2. Download the training data from https://www.kaggle.com/competitions/ds2023-counting-stars/data. Check out the Dataset Description for more information about the data and your task.\n",
    "2. Load the training data file `stars_train_X_y.npz` and split it into `train`, `val`, and `test` splits.\n",
    "3. Use a linear or logistic regression model to fit the `train` data. Use the `val` and `test` splits for model selection and hyperparameter optimization. (You should measure performance using accuracy)."
   ]
  },
  {
   "cell_type": "code",
   "execution_count": 7,
   "metadata": {},
   "outputs": [
    {
     "name": "stdout",
     "output_type": "stream",
     "text": [
      "[(0.0, 3742), (1.0, 219), (2.0, 135)]\n",
      "[ 3. 11.]\n",
      "[(0.0, 3836), (1.0, 201), (2.0, 59)]\n"
     ]
    },
    {
     "data": {
      "image/png": "[encoded data removed]",
      "text/plain": [
       "<Figure size 640x480 with 1 Axes>"
      ]
     },
     "metadata": {},
     "output_type": "display_data"
    }
   ],
   "source": [
    "from sklearn import preprocessing\n",
    "data = np.load(\"stars_train_X_y.npz\")\n",
    "X = data['X_train'] #   np.ndarray of size (8000, 4096),  flattened image (64x64) of the night sky.\n",
    "y = data['y_train'] #   np.ndarray of size (8000, 2), number of circular stars and number square stars\n",
    "def countpixels(inp):\n",
    "    fdist1 = FreqDist(inp)\n",
    "    sort = sorted(fdist1.most_common(), key=lambda i: i[0])\n",
    "    return sort\n",
    "from matplotlib import pyplot as plt\n",
    "def remove_noise(inp):\n",
    "    for i in inp:\n",
    "        pic = i.reshape(64,64)\n",
    "        for count, value in enumerate(pic):\n",
    "            for x in range(len(value)):\n",
    "                if value[x-1] != 0:\n",
    "                    if value[x] == value[x-2]:\n",
    "                        value[x-1] = value[x]\n",
    "remove_noise(X)"
   ]
  },
  {
   "cell_type": "markdown",
   "metadata": {},
   "source": [
    "## Model 1, countpixels method."
   ]
  },
  {
   "cell_type": "code",
   "execution_count": 8,
   "metadata": {},
   "outputs": [],
   "source": [
    "# YOUR CODE HERE\n",
    "# >\n",
    "\n",
    "y = [1 if (x[0]-x[1])>1 else 0 for x in y]\n",
    "X_train, X_testing, y_train, y_testing = train_test_split(X, y, \n",
    "                       train_size=0.8,\n",
    "                       test_size=0.2,\n",
    "                       random_state=0)\n",
    "X_test, X_val, y_test, y_val = train_test_split(X_testing, y_testing, train_size=0.5, random_state=0)\n",
    "def model(input):\n",
    "    result = []\n",
    "    for i in input:\n",
    "        if countpixels(i)[2][1]-8 > countpixels(i)[1][1]:\n",
    "            result.append(1)\n",
    "        else:\n",
    "            result.append(0)\n",
    "    return result"
   ]
  },
  {
   "cell_type": "markdown",
   "metadata": {},
   "source": [
    "## Model 2, Linear Regression."
   ]
  },
  {
   "cell_type": "code",
   "execution_count": null,
   "metadata": {},
   "outputs": [],
   "source": [
    "data = np.load(\"stars_train_X_y.npz\")\n",
    "X = data['X_train'] #   np.ndarray of size (8000, 4096),  flattened image (64x64) of the night sky.\n",
    "y = data['y_train'] #   np.ndarray of size (8000, 2), number of circular stars and number square stars\n",
    "def countpixels(inp):\n",
    "    fdist1 = FreqDist(inp)\n",
    "    sort = sorted(fdist1.most_common(), key=lambda i: i[0])\n",
    "    return sort\n",
    "def remove_noise(inp):\n",
    "    for i in inp:\n",
    "        pic = i.reshape(64,64)\n",
    "        for count, value in enumerate(pic):\n",
    "            for x in range(len(value)):\n",
    "                if value[x-1] != 0:\n",
    "                    if value[x] == value[x-2]:\n",
    "                        value[x-1] = value[x]\n",
    "remove_noise(X)\n",
    "\n",
    "def squares(inp):\n",
    "    arr = np.empty((len(inp), 1), dtype=np.int16)\n",
    "    for i in range(len(inp)):\n",
    "        arr[i][0]= inp[i][1]\n",
    "    return arr\n",
    "\n",
    "def circles(inp):\n",
    "    arr = np.empty((len(inp), 1), dtype=np.int16)\n",
    "    for i in range(len(inp)):\n",
    "        arr[i][0]= inp[i][0]\n",
    "    return arr\n",
    "\n",
    "y1 = squares(y)\n",
    "y2 = circles(y)\n",
    "def pixels1(inp):\n",
    "    arr = np.empty((len(inp), 1), dtype=np.int16)\n",
    "    for i in range(len(inp)):\n",
    "        arr[i][0] = countpixels(inp[i])[1][1]\n",
    "    return arr\n",
    "\n",
    "def pixels2(inp):\n",
    "    arr = np.empty((len(inp), 1), dtype=np.int16)\n",
    "    for i in range(len(inp)):\n",
    "        arr[i][0] = countpixels(inp[i])[2][1]\n",
    "    return arr\n",
    "\n",
    "X1 = pixels1(X)\n",
    "X2 = pixels2(X)\n",
    "plt.imshow(X[5].reshape(64,64), interpolation='nearest')\n",
    "plt.show()\n",
    "X1_train, X1_testing, y1_train, y1_testing = train_test_split(X1, y1, \n",
    "                       train_size=0.8,\n",
    "                       test_size=0.2,\n",
    "                       random_state=0)\n",
    "X1_test, X1_val, y1_test, y1_val = train_test_split(X1_testing, y1_testing, train_size=0.5, random_state=0)\n",
    "\n",
    "X2_train, X2_testing, y2_train, y2_testing = train_test_split(X2, y2, \n",
    "                       train_size=0.8,\n",
    "                       test_size=0.2,\n",
    "                       random_state=0)\n",
    "X1_test, X1_val, y1_test, y1_val = train_test_split(X1_testing, y1_testing, train_size=0.5, random_state=0)\n"
   ]
  },
  {
   "cell_type": "code",
   "execution_count": null,
   "metadata": {},
   "outputs": [],
   "source": [
    "squaremodel = LinearRegression()\n",
    "circlemodel = LinearRegression()\n",
    "squaremodel.fit(X1_train , y1_train)\n",
    "circlemodel.fit(X2_train , y2_train)\n",
    "square_pred = squaremodel.predict(X1_testing).round()\n",
    "circle_pred = circlemodel.predict(X2_testing).round()\n",
    "def final(pred1, pred2):\n",
    "    list = []\n",
    "    for i in range(len(pred1)):\n",
    "        if pred1[i] < pred2[i]:\n",
    "            list.append(1)\n",
    "        else:\n",
    "            list.append(0)\n",
    "    return list\n",
    "\n",
    "testset = np.load(\"stars_test_X.npz\")\n",
    "X = testset[\"X_test\"]\n",
    "remove_noise(X)\n",
    "X1 = pixels1(X)\n",
    "X2 = pixels2(X)\n",
    "square_pred = squaremodel.predict(X1).round()\n",
    "circle_pred = circlemodel.predict(X2).round()\n",
    "\n",
    "y_pred = final(square_pred, circle_pred)"
   ]
  },
  {
   "cell_type": "markdown",
   "metadata": {},
   "source": [
    "### E: Unlabelled data evaluation\n",
    "\n",
    "You should download the unlabeled test data from https://www.kaggle.com/competitions/ds2023-counting-stars/data and make predictions for all of the unlabeled images in the test set. You can submit your best predictions to Kaggle three times/day.\n",
    "\n",
    "The course responsible has submitted a naive baseline and we're sure you can beat that score! This programming exercise is considered passed if you achieve  $\\text{Score} \\ge 0.90$ on the leaderboard."
   ]
  },
  {
   "cell_type": "code",
   "execution_count": 10,
   "metadata": {},
   "outputs": [
    {
     "data": {
      "image/png": "[encoded data removed]",
      "text/plain": [
       "<Figure size 640x480 with 1 Axes>"
      ]
     },
     "metadata": {},
     "output_type": "display_data"
    }
   ],
   "source": [
    "testset = np.load(\"stars_test_X.npz\")\n",
    "X = testset[\"X_test\"]"
   ]
  },
  {
   "cell_type": "code",
   "execution_count": 11,
   "metadata": {},
   "outputs": [
    {
     "name": "stdout",
     "output_type": "stream",
     "text": [
      "2000\n"
     ]
    }
   ],
   "source": [
    "# LOAD THE TEST SET AND MAKE PREDICTIONS. ASSIGN THE PREDICTIONS TO THE VARIABLE y_pred.\n",
    "# >\n",
    "remove_noise(X)\n",
    "y_pred = model(X)\n",
    "print(len(y_pred))\n",
    "output_file = \"prediction.csv\"\n",
    "# DO NOT INSERT OR CHANGE ANYTHING BELOW\n",
    "import numpy as np\n",
    "# Use this function to save your predictions on stars_test_X.npz to a \"prediction.csv\" file.\n",
    "# The produced csv file can be directly uploaded to Kaggle for evaluation.\n",
    "def y_pred_to_kaggle_format (y_pred : np.ndarray) -> None:\n",
    "    np.c_[np.arange(1, len(y_pred)+1), y_pred]\n",
    "    np.savetxt(output_file, np.c_[np.arange(1, len(y_pred)+1), y_pred], fmt='%i', delimiter=\",\", header=\"Id,Category\", comments='')\n",
    "\n",
    "y_pred_to_kaggle_format(y_pred)\n",
    "# NOW YOU CAN UPLOAD THE prediction.csv FILE TO KAGGLE AND SEE YOUR ACCURACY"
   ]
  },
  {
   "cell_type": "markdown",
   "metadata": {},
   "source": [
    "### Written Questions\n",
    "\n",
    "2a) Explain the different techniques and their purpose in your code for Programming Exercise D.\n",
    "I used two different models. Both have given me a score on Kaggle of 0.977. First i clean all the background noise out. In the first model i just use the number of different coloured pixels, and say i have more circles if there are more pixels of colour 2 than colour 1. Second model i use two linear regression to predict the number of round stars and square stars separately.\n",
    "\n",
    "2b) Which techniques were not useful in improving performance on this task?\n",
    "Logistic regression did not give me any good results. \n"
   ]
  }
 ],
 "metadata": {
  "kernelspec": {
   "display_name": "Python 3.11.0 ('fake-news')",
   "language": "python",
   "name": "python3"
  },
  "language_info": {
   "codemirror_mode": {
    "name": "ipython",
    "version": 3
   },
   "file_extension": ".py",
   "mimetype": "text/x-python",
   "name": "python",
   "nbconvert_exporter": "python",
   "pygments_lexer": "ipython3",
   "version": "3.11.0"
  },
  "vscode": {
   "interpreter": {
    "hash": "0c51188913eb751991cea53de3d784342d896404cee26829fe2aec3f3b6b7849"
   }
  }
 },
 "nbformat": 4,
 "nbformat_minor": 2
}
